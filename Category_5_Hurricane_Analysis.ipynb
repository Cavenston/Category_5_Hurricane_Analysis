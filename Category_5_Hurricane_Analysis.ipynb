{
 "cells": [
  {
   "cell_type": "markdown",
   "metadata": {},
   "source": [
    "# Hurricane Analysis with Python Fundamentals"
   ]
  },
  {
   "cell_type": "markdown",
   "metadata": {},
   "source": [
    "***Python Dictionaries Challenge Project***  \n",
    "*designed by Codecademy* "
   ]
  },
  {
   "cell_type": "markdown",
   "metadata": {},
   "source": [
    "### Set up data"
   ]
  },
  {
   "cell_type": "markdown",
   "metadata": {},
   "source": [
    "Data collected on the 34 strongest Atlantic hurricanes"
   ]
  },
  {
   "cell_type": "code",
   "execution_count": 3,
   "metadata": {},
   "outputs": [],
   "source": [
    "# names of hurricanes\n",
    "names = ['Cuba I', 'San Felipe II Okeechobee', 'Bahamas', 'Cuba II', 'CubaBrownsville', 'Tampico', 'Labor Day', 'New England', 'Carol', 'Janet', 'Carla', 'Hattie', 'Beulah', 'Camille', 'Edith', 'Anita', 'David', 'Allen', 'Gilbert', 'Hugo', 'Andrew', 'Mitch', 'Isabel', 'Ivan', 'Emily', 'Katrina', 'Rita', 'Wilma', 'Dean', 'Felix', 'Matthew', 'Irma', 'Maria', 'Michael']\n",
    "\n",
    "# months of hurricanes\n",
    "months = ['October', 'September', 'September', 'November', 'August', 'September', 'September', 'September', 'September', 'September', 'September', 'October', 'September', 'August', 'September', 'September', 'August', 'August', 'September', 'September', 'August', 'October', 'September', 'September', 'July', 'August', 'September', 'October', 'August', 'September', 'October', 'September', 'September', 'October']\n",
    "\n",
    "# years of hurricanes\n",
    "years = [1924, 1928, 1932, 1932, 1933, 1933, 1935, 1938, 1953, 1955, 1961, 1961, 1967, 1969, 1971, 1977, 1979, 1980, 1988, 1989, 1992, 1998, 2003, 2004, 2005, 2005, 2005, 2005, 2007, 2007, 2016, 2017, 2017, 2018]\n",
    "\n",
    "# maximum sustained winds (mph) of hurricanes\n",
    "max_sustained_winds = [165, 160, 160, 175, 160, 160, 185, 160, 160, 175, 175, 160, 160, 175, 160, 175, 175, 190, 185, 160, 175, 180, 165, 165, 160, 175, 180, 185, 175, 175, 165, 180, 175, 160]\n",
    "\n",
    "# areas affected by each hurricane\n",
    "areas_affected = [['Central America', 'Mexico', 'Cuba', 'Florida', 'The Bahamas'], ['Lesser Antilles', 'The Bahamas', 'United States East Coast', 'Atlantic Canada'], ['The Bahamas', 'Northeastern United States'], ['Lesser Antilles', 'Jamaica', 'Cayman Islands', 'Cuba', 'The Bahamas', 'Bermuda'], ['The Bahamas', 'Cuba', 'Florida', 'Texas', 'Tamaulipas'], ['Jamaica', 'Yucatn Peninsula'], ['The Bahamas', 'Florida', 'Georgia', 'The Carolinas', 'Virginia'], ['Southeastern United States', 'Northeastern United States', 'Southwestern Quebec'], ['Bermuda', 'New England', 'Atlantic Canada'], ['Lesser Antilles', 'Central America'], ['Texas', 'Louisiana', 'Midwestern United States'], ['Central America'], ['The Caribbean', 'Mexico', 'Texas'], ['Cuba', 'United States Gulf Coast'], ['The Caribbean', 'Central America', 'Mexico', 'United States Gulf Coast'], ['Mexico'], ['The Caribbean', 'United States East coast'], ['The Caribbean', 'Yucatn Peninsula', 'Mexico', 'South Texas'], ['Jamaica', 'Venezuela', 'Central America', 'Hispaniola', 'Mexico'], ['The Caribbean', 'United States East Coast'], ['The Bahamas', 'Florida', 'United States Gulf Coast'], ['Central America', 'Yucatn Peninsula', 'South Florida'], ['Greater Antilles', 'Bahamas', 'Eastern United States', 'Ontario'], ['The Caribbean', 'Venezuela', 'United States Gulf Coast'], ['Windward Islands', 'Jamaica', 'Mexico', 'Texas'], ['Bahamas', 'United States Gulf Coast'], ['Cuba', 'United States Gulf Coast'], ['Greater Antilles', 'Central America', 'Florida'], ['The Caribbean', 'Central America'], ['Nicaragua', 'Honduras'], ['Antilles', 'Venezuela', 'Colombia', 'United States East Coast', 'Atlantic Canada'], ['Cape Verde', 'The Caribbean', 'British Virgin Islands', 'U.S. Virgin Islands', 'Cuba', 'Florida'], ['Lesser Antilles', 'Virgin Islands', 'Puerto Rico', 'Dominican Republic', 'Turks and Caicos Islands'], ['Central America', 'United States Gulf Coast (especially Florida Panhandle)']]\n",
    "\n",
    "# damages (USD($)) of hurricanes\n",
    "damages = ['Damages not recorded', '100M', 'Damages not recorded', '40M', '27.9M', '5M', 'Damages not recorded', '306M', '2M', '65.8M', '326M', '60.3M', '208M', '1.42B', '25.4M', 'Damages not recorded', '1.54B', '1.24B', '7.1B', '10B', '26.5B', '6.2B', '5.37B', '23.3B', '1.01B', '125B', '12B', '29.4B', '1.76B', '720M', '15.1B', '64.8B', '91.6B', '25.1B']\n",
    "\n",
    "# deaths for each hurricane\n",
    "deaths = [90,4000,16,3103,179,184,408,682,5,1023,43,319,688,259,37,11,2068,269,318,107,65,19325,51,124,17,1836,125,87,45,133,603,138,3057,74]\n"
   ]
  },
  {
   "cell_type": "markdown",
   "metadata": {},
   "source": [
    "### Update Recorded Damages"
   ]
  },
  {
   "cell_type": "markdown",
   "metadata": {},
   "source": [
    "Write a function that returns a new list of updated damages where the recorded data is converted to float values and the missing data is retained as \"Damages not recorded\"."
   ]
  },
  {
   "cell_type": "code",
   "execution_count": 4,
   "metadata": {},
   "outputs": [],
   "source": [
    "conversion = {\"M\": 1000000,\n",
    "              \"B\": 1000000000}\n",
    "\n",
    "# test function by updating damages\n",
    "def float_damages(damages):\n",
    "    conversion = {\"M\": 1000000,\n",
    "              \"B\": 1000000000}\n",
    "    updated_damages=[]\n",
    "    for damage in damages:\n",
    "        if damage == \"Damages not recorded\":\n",
    "            updated_damages.append(damage)\n",
    "        elif damage[-1] == 'M':\n",
    "            damage1 = float(damage.strip('M'))*conversion[\"M\"]\n",
    "            updated_damages.append(damage1)\n",
    "        elif damage[-1] == 'B':\n",
    "            damage2 = float(damage.strip('B'))*conversion[\"B\"]\n",
    "            updated_damages.append(damage2)\n",
    "    return updated_damages\n",
    "\n",
    "updated_damages = float_damages(damages)"
   ]
  },
  {
   "cell_type": "markdown",
   "metadata": {},
   "source": [
    "### Create a Table"
   ]
  },
  {
   "cell_type": "markdown",
   "metadata": {},
   "source": [
    "Write a function that constructs a dictionary made out of the lists, where the keys of the dictionary are the names of the hurricanes, and the values are dictionaries themselves containing a key for each piece of data (Name, Month, Year,Max Sustained Wind, Areas Affected, Damage, Death) about the hurricane."
   ]
  },
  {
   "cell_type": "code",
   "execution_count": 5,
   "metadata": {},
   "outputs": [],
   "source": [
    "# Create and view the hurricanes dictionary\n",
    "def hurricane_dict(names, months, years, max_sustained_winds, areas_affected, updated_damages, deaths):\n",
    "    hurricane_dict = {}\n",
    "    for i in range(len(names)):\n",
    "        hurricane_dict[names[i]] = {\"Name\": names[i], \"Month\": months[i], \"Year\": years[i], \"Max Sustained Wind\": max_sustained_winds[i], \"Areas Affected\": areas_affected[i], \"Damage\": updated_damages[i], \"Deaths\": deaths[i]}\n",
    "    return hurricane_dict\n",
    "\n",
    "hurricanes_dict = hurricane_dict(names, months, years, max_sustained_winds, areas_affected, updated_damages, deaths)\n",
    "\n",
    "#print(hurricanes_dict)"
   ]
  },
  {
   "cell_type": "markdown",
   "metadata": {},
   "source": [
    "### Organize by Year"
   ]
  },
  {
   "cell_type": "markdown",
   "metadata": {},
   "source": [
    "Write a function that converts the current dictionary of hurricanes to a new dictionary, where the keys are years and the values are lists containing a dictionary for each hurricane that occurred in that year."
   ]
  },
  {
   "cell_type": "code",
   "execution_count": 6,
   "metadata": {},
   "outputs": [],
   "source": [
    "def hurricanes_by_year(hurricanes_dict):\n",
    "    hurricanes_by_year = {}\n",
    "    for name in hurricanes_dict.values():\n",
    "        year = name['Year']\n",
    "        if year not in hurricanes_by_year:\n",
    "            year_list = []\n",
    "            for cane in hurricanes_dict.values():\n",
    "                if cane['Year'] == year:\n",
    "                    year_list.append(cane)\n",
    "            hurricanes_by_year[year] = year_list\n",
    "    return hurricanes_by_year\n",
    "\n",
    "hurricanes_by_year = hurricanes_by_year(hurricanes_dict)\n",
    "#print(hurricanes_by_year)"
   ]
  },
  {
   "cell_type": "markdown",
   "metadata": {},
   "source": [
    "### Count Damaged Areas"
   ]
  },
  {
   "cell_type": "markdown",
   "metadata": {},
   "source": [
    "Write a function that counts how often each area is listed as an affected area of a hurricane. Store and return the results in a dictionary where the keys are the affected areas and the values are counts of how many times the areas were affected."
   ]
  },
  {
   "cell_type": "code",
   "execution_count": 7,
   "metadata": {},
   "outputs": [],
   "source": [
    "def count_canes_by_area(hurricanes_dict):\n",
    "    hurricanes_by_area = {}\n",
    "    for name in hurricanes_dict.values():\n",
    "        for area in name['Areas Affected']:\n",
    "            if area in hurricanes_by_area:\n",
    "                hurricanes_by_area[area] += 1\n",
    "        else:\n",
    "                hurricanes_by_area[area] = 1\n",
    "    return hurricanes_by_area\n",
    "\n",
    "hurricanes_by_area = count_canes_by_area(hurricanes_dict)\n",
    "#print(hurricanes_by_area)"
   ]
  },
  {
   "cell_type": "markdown",
   "metadata": {},
   "source": [
    "### Calculate Maximum Hurricane Count"
   ]
  },
  {
   "cell_type": "markdown",
   "metadata": {},
   "source": [
    "Write a function that finds the area affected by the most hurricanes, and how often it was hit."
   ]
  },
  {
   "cell_type": "code",
   "execution_count": 8,
   "metadata": {},
   "outputs": [],
   "source": [
    "# find most frequently affected area and the number of hurricanes involved in\n",
    "def most_affected_area(hurricanes_by_area):\n",
    "    max_hit_area = ''\n",
    "    max_hits_per_area = 0\n",
    "    for k,v in hurricanes_by_area.items():\n",
    "        if v > max_hits_per_area:\n",
    "            max_hits_per_area = v\n",
    "            max_hit_area = k\n",
    "    return (max_hit_area, max_hits_per_area)\n",
    "\n",
    "most_affected_area = most_affected_area(hurricanes_by_area)\n",
    "#print(most_affected_area)"
   ]
  },
  {
   "cell_type": "markdown",
   "metadata": {},
   "source": [
    "### Calculate Deadliest Hurricane"
   ]
  },
  {
   "cell_type": "markdown",
   "metadata": {},
   "source": [
    "Write a function that finds the hurricane that caused the greatest number of deaths, and how many deaths it caused."
   ]
  },
  {
   "cell_type": "code",
   "execution_count": 9,
   "metadata": {},
   "outputs": [],
   "source": [
    "# find highest mortality hurricane and the number of deaths\n",
    "def most_lethal_hurricane(hurricanes_dict):\n",
    "    most_lethal_hurricane = ''\n",
    "    num_of_deaths = 0\n",
    "    for name in hurricanes_dict.values():\n",
    "        if name['Deaths'] > num_of_deaths:\n",
    "            most_lethal_hurricane = name['Name']\n",
    "            num_of_deaths = name['Deaths']\n",
    "    return most_lethal_hurricane, num_of_deaths\n",
    "\n",
    "most_lethal_hurricane = most_lethal_hurricane(hurricanes_dict)\n",
    "#print(most_lethal_hurricane)"
   ]
  },
  {
   "cell_type": "markdown",
   "metadata": {},
   "source": [
    "### Rate Hurricanes by Mortality"
   ]
  },
  {
   "cell_type": "markdown",
   "metadata": {},
   "source": [
    "Write a function that rates hurricanes on a mortality scale according to the following ratings, where the key is the rating and the value is the upper bound of deaths for that rating."
   ]
  },
  {
   "cell_type": "code",
   "execution_count": 10,
   "metadata": {},
   "outputs": [],
   "source": [
    "mortality_scale = {0: 0,\n",
    "                   1: 100,\n",
    "                   2: 500,\n",
    "                   3: 1000,\n",
    "                   4: 10000}\n",
    "# categorize hurricanes in new dictionary with mortality severity as key\n",
    "def hurricanes_mortality_rating(hurricanes_dict):\n",
    "    hurricanes_by_mortality = {}\n",
    "    for i in mortality_scale.keys():\n",
    "        hurricanes_by_mortality.update({i:[]})\n",
    "    for name in hurricanes_dict.values():\n",
    "        if name['Deaths'] == mortality_scale[0]:\n",
    "            hurricanes_by_mortality[0].append(name['Name'])\n",
    "        elif name['Deaths'] > mortality_scale[0] and name['Deaths']<= mortality_scale[1]:\n",
    "            hurricanes_by_mortality[1].append(name['Name'])\n",
    "        elif name['Deaths'] > mortality_scale[1] and name['Deaths']<= mortality_scale[2]:\n",
    "            hurricanes_by_mortality[2].append(name['Name'])\n",
    "        elif name['Deaths'] > mortality_scale[2] and name['Deaths']<= mortality_scale[3]:\n",
    "            hurricanes_by_mortality[3].append(name['Name'])\n",
    "        elif name['Deaths'] > mortality_scale[3] and name['Deaths']<= mortality_scale[4]:\n",
    "            hurricanes_by_mortality[4].append(name['Name'])\n",
    "    return hurricanes_by_mortality\n",
    "\n",
    "hurricanes_by_mortality = hurricanes_mortality_rating(hurricanes_dict)\n",
    "#print(hurricanes_by_mortality)"
   ]
  },
  {
   "cell_type": "markdown",
   "metadata": {},
   "source": [
    "### Find & Rate Hurricane with Highest Damages Cost"
   ]
  },
  {
   "cell_type": "markdown",
   "metadata": {},
   "source": [
    "Write a function that finds the hurricane that caused the greatest damage, and how costly it was."
   ]
  },
  {
   "cell_type": "code",
   "execution_count": 11,
   "metadata": {},
   "outputs": [],
   "source": [
    "# find highest damage inducing hurricane and its total cost\n",
    "def highest_damage_hurricane(hurricanes_dict):\n",
    "    max_damage_cost = 0\n",
    "    max_damage_cane = ''\n",
    "    for k,v in hurricanes_dict.items():\n",
    "        if v['Damage'] == 'Damages not recorded':\n",
    "            pass\n",
    "        elif v['Damage'] > max_damage_cost:\n",
    "            max_damage_cost = v['Damage']\n",
    "            max_damage_cane = k\n",
    "    return (max_damage_cane, max_damage_cost)\n",
    "\n",
    "most_damaging = highest_damage_hurricane(hurricanes_dict)\n",
    "#print(most_damaging)"
   ]
  },
  {
   "cell_type": "markdown",
   "metadata": {},
   "source": [
    "Write a function that rates hurricanes on a damage scale according to the following ratings, where the key is the rating and the value is the upper bound of damage for that rating."
   ]
  },
  {
   "cell_type": "code",
   "execution_count": 12,
   "metadata": {},
   "outputs": [],
   "source": [
    "damage_scale = {0: 0,\n",
    "                1: 100000000,\n",
    "                2: 1000000000,\n",
    "                3: 10000000000,\n",
    "                4: 50000000000}       \n",
    "                             \n",
    "  \n",
    "# categorize hurricanes in new dictionary with damage severity as key\n",
    "def hurricanes_damage_rating(hurricanes_dict):\n",
    "    hurricanes_by_damage = {}\n",
    "    for i in damage_scale.keys():\n",
    "        hurricanes_by_damage.update({i:[]})\n",
    "    for name in hurricanes_dict.values():\n",
    "        if name['Damage'] == \"Damages not recorded\":\n",
    "            hurricanes_by_damage[0].append(name)\n",
    "        elif name['Damage'] > damage_scale[0] and name['Damage']<= damage_scale[1]:\n",
    "            hurricanes_by_damage[1].append(name)\n",
    "        elif name['Damage'] > damage_scale[1] and name['Damage']<= damage_scale[2]:\n",
    "            hurricanes_by_damage[2].append(name)\n",
    "        elif name['Damage'] > damage_scale[2] and name['Damage']<= damage_scale[3]:\n",
    "            hurricanes_by_damage[3].append(name)\n",
    "        elif name['Damage'] > damage_scale[3] and name['Damage']<= damage_scale[4]:\n",
    "            hurricanes_by_damage[4].append(name)\n",
    "    return hurricanes_by_damage\n",
    "\n",
    "hurricanes_by_damage = hurricanes_damage_rating(hurricanes_dict)\n",
    "#print(hurricanes_by_damage)"
   ]
  },
  {
   "cell_type": "code",
   "execution_count": null,
   "metadata": {},
   "outputs": [],
   "source": []
  }
 ],
 "metadata": {
  "kernelspec": {
   "display_name": "Python 3",
   "language": "python",
   "name": "python3"
  },
  "language_info": {
   "codemirror_mode": {
    "name": "ipython",
    "version": 3
   },
   "file_extension": ".py",
   "mimetype": "text/x-python",
   "name": "python",
   "nbconvert_exporter": "python",
   "pygments_lexer": "ipython3",
   "version": "3.8.5"
  }
 },
 "nbformat": 4,
 "nbformat_minor": 4
}
